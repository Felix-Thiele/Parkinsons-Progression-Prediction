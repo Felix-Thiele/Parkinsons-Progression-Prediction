{
 "cells": [
  {
   "cell_type": "code",
   "execution_count": 1,
   "id": "d0c76414",
   "metadata": {},
   "outputs": [],
   "source": [
    "import pandas as pd\n",
    "import numpy as np\n",
    "import scipy\n",
    "from sklearn.decomposition import PCA\n",
    "import warnings\n",
    "\n",
    "warnings.filterwarnings('ignore')\n",
    "\n",
    "import read_data\n",
    "from tools import smape"
   ]
  },
  {
   "cell_type": "code",
   "execution_count": null,
   "id": "809f854e",
   "metadata": {},
   "outputs": [],
   "source": [
    "STD_FILLER = -1\n",
    "\n",
    "data = read_data.data()\n",
    "prot, pept = data.x_data_3d()\n",
    "clinical = data.y_data_3d()\n",
    "\n",
    "\n",
    "\n",
    "#Preprocessing\n",
    "\n",
    "clinical_cols = list(set(list(zip(*clinical.columns))[0]))\n",
    "prot_cols = list(set(list(zip(*prot.columns))[0]))\n",
    "prot_means = {_: prot[_].mean().mean() for _ in prot_cols}\n",
    "clinical_means = {_: clinical[_].mean().mean() for _ in clinical_cols}\n",
    "\n",
    "def calc_lingress(row):\n",
    "    if row.isnull().all():\n",
    "        return pd.Series([np.nan, np.nan, np.nan])\n",
    "    mask = ~np.isnan(row)\n",
    "    if mask.sum()==1:\n",
    "        return pd.Series([0, row[mask].iloc[0], STD_FILLER])\n",
    "    slope, intercept, r_value, p_value, std_err = scipy.stats.linregress(row.index[mask], row[mask])\n",
    "    return pd.Series([slope, intercept, std_err])\n",
    "\n",
    "x = None\n",
    "y = None\n",
    "\n",
    "# letzten monate kommen haufiger vor...\n",
    "for i in [5, 10, 15, 20]:\n",
    "    #clinical\n",
    "    col_titles = ['slope', 'intercept']#['slope', 'intercept', 'std_err']\n",
    "    df = pd.DataFrame(columns=pd.MultiIndex.from_tuples([(_, __) for __ in col_titles for _ in clinical_cols], names=['Prot', 'feature']), index=clinical.index)\n",
    "    for col in clinical_cols:\n",
    "        vals = clinical[col].iloc[:, : i].apply(calc_lingress, axis=1)\n",
    "        df[col, 'slope'] = vals[0].fillna(0)\n",
    "        df[col, 'intercept'] = vals[1].fillna(clinical_means[col])\n",
    "        #df[col, 'std_err'] = vals[2].fillna(STD_FILLER)\n",
    "    clinical_df = np.array(df)\n",
    "\n",
    "    #prot\n",
    "    df = pd.DataFrame(columns=pd.MultiIndex.from_tuples([(_, __) for __ in ['slope', 'intercept', 'std_err'] for _ in prot_cols], names=['Prot', 'feature']), index=prot.index)\n",
    "    for col in prot_cols:\n",
    "        vals = prot[col].iloc[:, : i].apply(calc_lingress, axis=1)\n",
    "        df[col, 'slope'] = vals[0].fillna(0)\n",
    "        df[col, 'intercept'] = vals[1].fillna(prot_means[col])\n",
    "        df[col, 'std_err'] = vals[2].fillna(STD_FILLER)\n",
    "    prot_df = np.array(df)\n",
    "\n",
    "    if x is None:\n",
    "        x = prot_df\n",
    "        y = clinical_df\n",
    "    else:\n",
    "        x = np.concatenate([x, prot_df])\n",
    "        y = np.concatenate([y, clinical_df])"
   ]
  },
  {
   "cell_type": "code",
   "execution_count": null,
   "id": "7f645238",
   "metadata": {},
   "outputs": [],
   "source": [
    "import matplotlib.pyplot as plt\n",
    "from sklearn.preprocessing import MinMaxScaler\n",
    "scaler = MinMaxScaler()\n",
    "data_rescaled = scaler.fit_transform(x)"
   ]
  },
  {
   "cell_type": "code",
   "execution_count": null,
   "id": "b91a0c57",
   "metadata": {},
   "outputs": [],
   "source": [
    "component_nr = 200\n",
    "\n",
    "pca = PCA(component_nr).fit(data_rescaled)\n",
    "\n",
    "plt.rcParams[\"figure.figsize\"] = (12,6)\n",
    "\n",
    "fig, ax = plt.subplots()\n",
    "xi = np.arange(component_nr)\n",
    "yi = np.cumsum(pca.explained_variance_ratio_)\n",
    "\n",
    "plt.ylim(0.0,1.1)\n",
    "plt.plot(xi, yi, marker='o', linestyle='--', color='b')\n",
    "\n",
    "plt.xlabel('Number of Components')\n",
    "plt.ylabel('Cumulative variance (%)')\n",
    "plt.title('The number of components needed to explain variance')\n",
    "\n",
    "plt.axhline(y=0.95, color='r', linestyle='-')\n",
    "\n",
    "ax.grid(axis='x')\n",
    "plt.show()"
   ]
  },
  {
   "cell_type": "code",
   "execution_count": null,
   "id": "ffa31490",
   "metadata": {},
   "outputs": [],
   "source": [
    "x.shape"
   ]
  },
  {
   "cell_type": "code",
   "execution_count": null,
   "id": "6d8b2959",
   "metadata": {},
   "outputs": [],
   "source": [
    "from sklearn.ensemble import RandomForestRegressor"
   ]
  },
  {
   "cell_type": "code",
   "execution_count": null,
   "id": "d4674e4d",
   "metadata": {},
   "outputs": [],
   "source": [
    "regr = RandomForestRegressor(max_features=\"sqrt\")\n",
    "regr.fit(pca.transform(data_rescaled)[:20], y[:20])"
   ]
  },
  {
   "cell_type": "code",
   "execution_count": null,
   "id": "39d025df",
   "metadata": {},
   "outputs": [],
   "source": [
    "np.sqrt(np.mean((regr.predict(pca.transform(data_rescaled)[20:])-y[20:])**2))"
   ]
  },
  {
   "cell_type": "code",
   "execution_count": null,
   "id": "22d79ce1",
   "metadata": {},
   "outputs": [],
   "source": [
    "for item in range(-20, -1):\n",
    "    res = regr.predict(pca.transform(data_rescaled)[item:])[0]\n",
    "    pred_vals = []\n",
    "    real_vals = []\n",
    "    for i in range(4):\n",
    "        for index in clinical[clinical_cols[i]].iloc[item].index:\n",
    "            a, b = index*res[i]+res[4+i], clinical[clinical_cols[i]].iloc[item].loc[index]\n",
    "            pred_vals.append(a)\n",
    "            real_vals.append(b)\n",
    "            #print(a, ' - ', b)\n",
    "    real = np.array(real_vals)\n",
    "    pred = np.array(pred_vals)\n",
    "    pred = pred[~np.isnan(real)]\n",
    "    real = real[~np.isnan(real)]\n",
    "    print(smape(, real))"
   ]
  },
  {
   "cell_type": "code",
   "execution_count": null,
   "id": "ceba3f44",
   "metadata": {
    "scrolled": false
   },
   "outputs": [],
   "source": [
    "for item in range(-20, -1):\n",
    "    res = regr.predict(pca.transform(data_rescaled)[item:])[0]\n",
    "    plt.figure(figsize=(12,1))\n",
    "    for i in range(4):\n",
    "        pred_vals = []\n",
    "        real_vals = []\n",
    "        for index in clinical[clinical_cols[i]].iloc[item].index:\n",
    "            a, b = index*res[i]+res[4+i], clinical[clinical_cols[i]].iloc[item].loc[index]\n",
    "            pred_vals.append(a)\n",
    "            real_vals.append(b)\n",
    "\n",
    "        plt.subplot(1,4,1+i)\n",
    "        plt.plot(clinical[clinical_cols[i]].iloc[item].index, pred_vals)\n",
    "        plt.plot(clinical[clinical_cols[i]].iloc[item].index, real_vals)\n",
    "        plt.ylim(0, 30)"
   ]
  },
  {
   "cell_type": "code",
   "execution_count": null,
   "id": "ab43a22f",
   "metadata": {},
   "outputs": [],
   "source": []
  }
 ],
 "metadata": {
  "hide_input": false,
  "kernelspec": {
   "display_name": "Python 3 (ipykernel)",
   "language": "python",
   "name": "python3"
  },
  "language_info": {
   "codemirror_mode": {
    "name": "ipython",
    "version": 3
   },
   "file_extension": ".py",
   "mimetype": "text/x-python",
   "name": "python",
   "nbconvert_exporter": "python",
   "pygments_lexer": "ipython3",
   "version": "3.11.2"
  },
  "toc": {
   "base_numbering": 1,
   "nav_menu": {},
   "number_sections": true,
   "sideBar": true,
   "skip_h1_title": false,
   "title_cell": "Table of Contents",
   "title_sidebar": "Contents",
   "toc_cell": false,
   "toc_position": {},
   "toc_section_display": true,
   "toc_window_display": false
  }
 },
 "nbformat": 4,
 "nbformat_minor": 5
}
