{
 "cells": [
  {
   "cell_type": "code",
   "execution_count": 1,
   "id": "5b9d9eba",
   "metadata": {},
   "outputs": [],
   "source": [
    "import numpy as np\n",
    "import matplotlib.pyplot as plt\n",
    "import pandas as pd\n",
    "from tqdm import tqdm\n",
    "\n",
    "from sklearn.cluster import AgglomerativeClustering\n",
    "from sklearn.metrics import pairwise_distances"
   ]
  },
  {
   "cell_type": "markdown",
   "id": "8a01f48f",
   "metadata": {},
   "source": [
    "Some old Clustering Code for function tested for train_clinical data.\n",
    "Might be usefull for future timeseries analysis"
   ]
  },
  {
   "cell_type": "markdown",
   "id": "50a981a9",
   "metadata": {},
   "source": [
    "## Load Data"
   ]
  },
  {
   "cell_type": "code",
   "execution_count": 2,
   "id": "da3ea50a",
   "metadata": {},
   "outputs": [],
   "source": [
    "file_location=\"amp-parkinsons-disease-progression-prediction\"\n",
    "train_clinical = pd.read_csv(file_location+'/train_clinical_data.csv')"
   ]
  },
  {
   "cell_type": "markdown",
   "id": "e0c0d155",
   "metadata": {},
   "source": [
    "## Clustering"
   ]
  },
  {
   "cell_type": "code",
   "execution_count": 3,
   "id": "22e13c35",
   "metadata": {},
   "outputs": [],
   "source": [
    "def COSSIM(f,g, eps=10**-20):\n",
    "    # Similarity between two functions measured: Integral(f'g')/sqrt(Integral(f'**2)*Integral(g'**2))\n",
    "    # https://en.wikipedia.org/wiki/Cosine_similarity\n",
    "    f_diff = f[...,1:]-f[...,:-1]\n",
    "    g_diff = g[...,1:]-g[...,:-1]\n",
    "    dxfdxg = f_diff*g_diff+eps\n",
    "    dxf2 = np.square(f_diff)+eps\n",
    "    dxg2 = np.square(g_diff)+eps\n",
    "    return np.sum(dxfdxg, axis=-1)/(np.sqrt(np.sum(dxf2, axis=-1))*np.sqrt(np.sum(dxg2, axis=-1)))"
   ]
  },
  {
   "cell_type": "code",
   "execution_count": 4,
   "id": "8b5cbe5e",
   "metadata": {},
   "outputs": [],
   "source": [
    "def metric_COSSIM(f,g):\n",
    "    c = COSSIM(f,g)\n",
    "    return np.sqrt(np.abs(1-c))"
   ]
  },
  {
   "cell_type": "code",
   "execution_count": 5,
   "id": "dc67f5e7",
   "metadata": {},
   "outputs": [],
   "source": [
    "def sim_affinity(X):\n",
    "    return pairwise_distances(X, metric=metric_COSSIM)"
   ]
  },
  {
   "cell_type": "markdown",
   "id": "73d5c69f",
   "metadata": {},
   "source": [
    "## Clustering Data"
   ]
  },
  {
   "cell_type": "code",
   "execution_count": 6,
   "id": "579663d0",
   "metadata": {},
   "outputs": [],
   "source": [
    "df_data = train_clinical.pivot(index='visit_month', columns='patient_id', values='updrs_1')\n",
    "data = np.array(df_data).transpose()\n",
    "\n",
    "# interpolating nan values, this can probably be done better ^^\n",
    "data = np.array([np.interp(np.arange(len(d)), \n",
    "          np.arange(len(d))[np.isnan(d) == False], \n",
    "          d[np.isnan(d) == False]) for d in data])\n",
    "\n",
    "data.shape"
   ]
  },
  {
   "cell_type": "code",
   "execution_count": 7,
   "id": "3dea97a3",
   "metadata": {},
   "outputs": [],
   "source": [
    "n_clusters = 40\n",
    "distance_threshold = None\n",
    "samples = 1500\n",
    "\n",
    "cluster = AgglomerativeClustering(n_clusters=n_clusters,\n",
    "                                  distance_threshold=distance_threshold,\n",
    "                                  affinity=sim_affinity, linkage='average')\n",
    "\n",
    "cluster.fit(data);"
   ]
  },
  {
   "cell_type": "code",
   "execution_count": 8,
   "id": "f7d9e6cd",
   "metadata": {},
   "outputs": [],
   "source": [
    "plt.figure(figsize=(20,20))\n",
    "plt.suptitle(\"Clusters \")\n",
    "for clus in range(max(cluster.labels_)+1):\n",
    "    for index in np.argwhere(cluster.labels_==clus):           \n",
    "        plt.subplot(10,4,clus+1)\n",
    "        plt.ticklabel_format(axis=\"y\", style=\"sci\", scilimits=(0,0))\n",
    "        plt.plot(df_data.index, (data[index]-np.min(data[index]))[0],color=\"red\", alpha = .5);          \n",
    "        "
   ]
  },
  {
   "cell_type": "code",
   "execution_count": null,
   "id": "93a7dda8",
   "metadata": {},
   "outputs": [],
   "source": []
  }
 ],
 "metadata": {
  "hide_input": false,
  "kernelspec": {
   "display_name": "Python 3 (ipykernel)",
   "language": "python",
   "name": "python3"
  },
  "language_info": {
   "codemirror_mode": {
    "name": "ipython",
    "version": 3
   },
   "file_extension": ".py",
   "mimetype": "text/x-python",
   "name": "python",
   "nbconvert_exporter": "python",
   "pygments_lexer": "ipython3",
   "version": "3.11.2"
  },
  "toc": {
   "base_numbering": 1,
   "nav_menu": {},
   "number_sections": true,
   "sideBar": true,
   "skip_h1_title": false,
   "title_cell": "Table of Contents",
   "title_sidebar": "Contents",
   "toc_cell": false,
   "toc_position": {},
   "toc_section_display": true,
   "toc_window_display": false
  }
 },
 "nbformat": 4,
 "nbformat_minor": 5
}
